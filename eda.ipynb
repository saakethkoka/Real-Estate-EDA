{
 "cells": [
  {
   "cell_type": "markdown",
   "source": [
    "# Realtor.com Dataset:\n",
    "\n",
    "## Business Case:\n",
    "\n",
    "TODO: In your own words, give an overview of the dataset. Describe the purpose of the data set you selected (i.e., why and how was this data collected in the first place?). What is the prediction task for your data and why are other third parties interested in the result? Once you begin modeling, how well would your prediction algorithm need to perform to be considered useful to these third parties?\n"
   ],
   "metadata": {
    "collapsed": false,
    "pycharm": {
     "name": "#%% md\n"
    }
   }
  },
  {
   "cell_type": "markdown",
   "source": [
    "### Importing Relevant Libraries:"
   ],
   "metadata": {
    "collapsed": false,
    "pycharm": {
     "name": "#%% md\n"
    }
   }
  },
  {
   "cell_type": "code",
   "execution_count": 1,
   "outputs": [],
   "source": [
    "import pandas as pd\n",
    "import matplotlib.pyplot as plt\n",
    "import seaborn as sns\n",
    "from sklearn.preprocessing import OneHotEncoder"
   ],
   "metadata": {
    "collapsed": false,
    "pycharm": {
     "name": "#%%\n"
    }
   }
  },
  {
   "cell_type": "code",
   "execution_count": 2,
   "outputs": [
    {
     "name": "stdout",
     "output_type": "stream",
     "text": [
      "<class 'pandas.core.frame.DataFrame'>\n",
      "RangeIndex: 923159 entries, 0 to 923158\n",
      "Data columns (total 12 columns):\n",
      " #   Column        Non-Null Count   Dtype  \n",
      "---  ------        --------------   -----  \n",
      " 0   status        923159 non-null  object \n",
      " 1   price         923088 non-null  float64\n",
      " 2   bed           791456 non-null  float64\n",
      " 3   bath          807967 non-null  float64\n",
      " 4   acre_lot      649536 non-null  float64\n",
      " 5   full_address  923159 non-null  object \n",
      " 6   street        921021 non-null  object \n",
      " 7   city          923085 non-null  object \n",
      " 8   state         923159 non-null  object \n",
      " 9   zip_code      922954 non-null  float64\n",
      " 10  house_size    625316 non-null  float64\n",
      " 11  sold_date     456396 non-null  object \n",
      "dtypes: float64(6), object(6)\n",
      "memory usage: 84.5+ MB\n"
     ]
    }
   ],
   "source": [
    "df = pd.read_csv(\"realtor-data.csv\")\n",
    "df.info()"
   ],
   "metadata": {
    "collapsed": false,
    "pycharm": {
     "name": "#%%\n"
    }
   }
  },
  {
   "cell_type": "markdown",
   "source": [
    "## Understanding the data:"
   ],
   "metadata": {
    "collapsed": false,
    "pycharm": {
     "name": "#%% md\n"
    }
   }
  },
  {
   "cell_type": "code",
   "execution_count": 3,
   "outputs": [
    {
     "data": {
      "text/plain": "     status     price  bed  bath  acre_lot  \\\n0  for_sale  105000.0  3.0   2.0      0.12   \n1  for_sale   80000.0  4.0   2.0      0.08   \n2  for_sale   67000.0  2.0   1.0      0.15   \n3  for_sale  145000.0  4.0   2.0      0.10   \n4  for_sale   65000.0  6.0   2.0      0.05   \n5  for_sale  179000.0  4.0   3.0      0.46   \n6  for_sale   50000.0  3.0   1.0      0.20   \n7  for_sale   71600.0  3.0   2.0      0.08   \n8  for_sale  100000.0  2.0   1.0      0.09   \n9  for_sale  300000.0  5.0   3.0      7.46   \n\n                                        full_address  \\\n0  Sector Yahuecas Titulo # V84, Adjuntas, PR, 00601   \n1            Km 78 9 Carr # 135, Adjuntas, PR, 00601   \n2            556G 556-G 16 St, Juana Diaz, PR, 00795   \n3  R5 Comunidad El Paraso Calle De Oro R-5 Ponce,...   \n4                    14 Navarro, Mayaguez, PR, 00680   \n5  Bo Calabazas San Sebastian, San Sebastian, PR,...   \n6                        49.1 140, Ciales, PR, 00639   \n7                          3467 St, Ponce, PR, 00731   \n8                  230 Rio De Vida, Ponce, PR, 00730   \n9  Pr 120 Bo Maravilla Sur K M # 335, Las Marias,...   \n\n                                          street           city        state  \\\n0                   Sector Yahuecas Titulo # V84       Adjuntas  Puerto Rico   \n1                             Km 78 9 Carr # 135       Adjuntas  Puerto Rico   \n2                               556G 556-G 16 St     Juana Diaz  Puerto Rico   \n3  R5 Comunidad El Paraso Calle De Oro R-5 Ponce          Ponce  Puerto Rico   \n4                                     14 Navarro       Mayaguez  Puerto Rico   \n5                     Bo Calabazas San Sebastian  San Sebastian  Puerto Rico   \n6                                       49.1 140         Ciales  Puerto Rico   \n7                                        3467 St          Ponce  Puerto Rico   \n8                                230 Rio De Vida          Ponce  Puerto Rico   \n9              Pr 120 Bo Maravilla Sur K M # 335     Las Marias  Puerto Rico   \n\n   zip_code  house_size sold_date  \n0     601.0       920.0       NaN  \n1     601.0      1527.0       NaN  \n2     795.0       748.0       NaN  \n3     731.0      1800.0       NaN  \n4     680.0         NaN       NaN  \n5     612.0      2520.0       NaN  \n6     639.0      2040.0       NaN  \n7     731.0      1050.0       NaN  \n8     730.0      1092.0       NaN  \n9     670.0      5403.0       NaN  ",
      "text/html": "<div>\n<style scoped>\n    .dataframe tbody tr th:only-of-type {\n        vertical-align: middle;\n    }\n\n    .dataframe tbody tr th {\n        vertical-align: top;\n    }\n\n    .dataframe thead th {\n        text-align: right;\n    }\n</style>\n<table border=\"1\" class=\"dataframe\">\n  <thead>\n    <tr style=\"text-align: right;\">\n      <th></th>\n      <th>status</th>\n      <th>price</th>\n      <th>bed</th>\n      <th>bath</th>\n      <th>acre_lot</th>\n      <th>full_address</th>\n      <th>street</th>\n      <th>city</th>\n      <th>state</th>\n      <th>zip_code</th>\n      <th>house_size</th>\n      <th>sold_date</th>\n    </tr>\n  </thead>\n  <tbody>\n    <tr>\n      <th>0</th>\n      <td>for_sale</td>\n      <td>105000.0</td>\n      <td>3.0</td>\n      <td>2.0</td>\n      <td>0.12</td>\n      <td>Sector Yahuecas Titulo # V84, Adjuntas, PR, 00601</td>\n      <td>Sector Yahuecas Titulo # V84</td>\n      <td>Adjuntas</td>\n      <td>Puerto Rico</td>\n      <td>601.0</td>\n      <td>920.0</td>\n      <td>NaN</td>\n    </tr>\n    <tr>\n      <th>1</th>\n      <td>for_sale</td>\n      <td>80000.0</td>\n      <td>4.0</td>\n      <td>2.0</td>\n      <td>0.08</td>\n      <td>Km 78 9 Carr # 135, Adjuntas, PR, 00601</td>\n      <td>Km 78 9 Carr # 135</td>\n      <td>Adjuntas</td>\n      <td>Puerto Rico</td>\n      <td>601.0</td>\n      <td>1527.0</td>\n      <td>NaN</td>\n    </tr>\n    <tr>\n      <th>2</th>\n      <td>for_sale</td>\n      <td>67000.0</td>\n      <td>2.0</td>\n      <td>1.0</td>\n      <td>0.15</td>\n      <td>556G 556-G 16 St, Juana Diaz, PR, 00795</td>\n      <td>556G 556-G 16 St</td>\n      <td>Juana Diaz</td>\n      <td>Puerto Rico</td>\n      <td>795.0</td>\n      <td>748.0</td>\n      <td>NaN</td>\n    </tr>\n    <tr>\n      <th>3</th>\n      <td>for_sale</td>\n      <td>145000.0</td>\n      <td>4.0</td>\n      <td>2.0</td>\n      <td>0.10</td>\n      <td>R5 Comunidad El Paraso Calle De Oro R-5 Ponce,...</td>\n      <td>R5 Comunidad El Paraso Calle De Oro R-5 Ponce</td>\n      <td>Ponce</td>\n      <td>Puerto Rico</td>\n      <td>731.0</td>\n      <td>1800.0</td>\n      <td>NaN</td>\n    </tr>\n    <tr>\n      <th>4</th>\n      <td>for_sale</td>\n      <td>65000.0</td>\n      <td>6.0</td>\n      <td>2.0</td>\n      <td>0.05</td>\n      <td>14 Navarro, Mayaguez, PR, 00680</td>\n      <td>14 Navarro</td>\n      <td>Mayaguez</td>\n      <td>Puerto Rico</td>\n      <td>680.0</td>\n      <td>NaN</td>\n      <td>NaN</td>\n    </tr>\n    <tr>\n      <th>5</th>\n      <td>for_sale</td>\n      <td>179000.0</td>\n      <td>4.0</td>\n      <td>3.0</td>\n      <td>0.46</td>\n      <td>Bo Calabazas San Sebastian, San Sebastian, PR,...</td>\n      <td>Bo Calabazas San Sebastian</td>\n      <td>San Sebastian</td>\n      <td>Puerto Rico</td>\n      <td>612.0</td>\n      <td>2520.0</td>\n      <td>NaN</td>\n    </tr>\n    <tr>\n      <th>6</th>\n      <td>for_sale</td>\n      <td>50000.0</td>\n      <td>3.0</td>\n      <td>1.0</td>\n      <td>0.20</td>\n      <td>49.1 140, Ciales, PR, 00639</td>\n      <td>49.1 140</td>\n      <td>Ciales</td>\n      <td>Puerto Rico</td>\n      <td>639.0</td>\n      <td>2040.0</td>\n      <td>NaN</td>\n    </tr>\n    <tr>\n      <th>7</th>\n      <td>for_sale</td>\n      <td>71600.0</td>\n      <td>3.0</td>\n      <td>2.0</td>\n      <td>0.08</td>\n      <td>3467 St, Ponce, PR, 00731</td>\n      <td>3467 St</td>\n      <td>Ponce</td>\n      <td>Puerto Rico</td>\n      <td>731.0</td>\n      <td>1050.0</td>\n      <td>NaN</td>\n    </tr>\n    <tr>\n      <th>8</th>\n      <td>for_sale</td>\n      <td>100000.0</td>\n      <td>2.0</td>\n      <td>1.0</td>\n      <td>0.09</td>\n      <td>230 Rio De Vida, Ponce, PR, 00730</td>\n      <td>230 Rio De Vida</td>\n      <td>Ponce</td>\n      <td>Puerto Rico</td>\n      <td>730.0</td>\n      <td>1092.0</td>\n      <td>NaN</td>\n    </tr>\n    <tr>\n      <th>9</th>\n      <td>for_sale</td>\n      <td>300000.0</td>\n      <td>5.0</td>\n      <td>3.0</td>\n      <td>7.46</td>\n      <td>Pr 120 Bo Maravilla Sur K M # 335, Las Marias,...</td>\n      <td>Pr 120 Bo Maravilla Sur K M # 335</td>\n      <td>Las Marias</td>\n      <td>Puerto Rico</td>\n      <td>670.0</td>\n      <td>5403.0</td>\n      <td>NaN</td>\n    </tr>\n  </tbody>\n</table>\n</div>"
     },
     "execution_count": 3,
     "metadata": {},
     "output_type": "execute_result"
    }
   ],
   "source": [
    "df.head(10)"
   ],
   "metadata": {
    "collapsed": false,
    "pycharm": {
     "name": "#%%\n"
    }
   }
  },
  {
   "cell_type": "markdown",
   "source": [
    "TODO For each of the following:\n",
    "\n",
    "appropriately define data types. What data type should be used to represent each data attribute? Discuss the attributes collected in the dataset. For datasets with a large number of attributes, only discuss a subset of relevant attributes.\n",
    "\n",
    "Verify data quality: Explain any missing values or duplicate data. Visualize entries that are missing/complete for different attributes. Are those mistakes? Why do these quality issues exist in the data? How do you deal with these problems? Give justifications for your methods (elimination or imputation).\n"
   ],
   "metadata": {
    "collapsed": false,
    "pycharm": {
     "name": "#%% md\n"
    }
   }
  },
  {
   "cell_type": "markdown",
   "source": [
    "### status: Saaketh\n",
    "\n",
    "The status feature tells whether the given listing was for_sale or ready_to_build. This feature should be one-hot encoded. Because there are only two values for status, we will only the ready_to_build column. After the transformation, the status column will be replaced with a read_to_build column. There are no missing values."
   ],
   "metadata": {
    "collapsed": false,
    "pycharm": {
     "name": "#%% md\n"
    }
   }
  },
  {
   "cell_type": "code",
   "execution_count": 4,
   "outputs": [
    {
     "data": {
      "text/plain": "for_sale          921528\nready_to_build      1631\nName: status, dtype: int64"
     },
     "execution_count": 4,
     "metadata": {},
     "output_type": "execute_result"
    }
   ],
   "source": [
    "df.status.value_counts()"
   ],
   "metadata": {
    "collapsed": false,
    "pycharm": {
     "name": "#%%\n"
    }
   }
  },
  {
   "cell_type": "markdown",
   "source": [
    "Only 1,631 out of the 923,159 listings were labeled as ready_to_build"
   ],
   "metadata": {
    "collapsed": false,
    "pycharm": {
     "name": "#%% md\n"
    }
   }
  },
  {
   "cell_type": "code",
   "execution_count": 5,
   "outputs": [],
   "source": [
    "df[\"ready_to_build\"] = pd.get_dummies(df.status).ready_to_build"
   ],
   "metadata": {
    "collapsed": false,
    "pycharm": {
     "name": "#%%\n"
    }
   }
  },
  {
   "cell_type": "code",
   "execution_count": 6,
   "outputs": [],
   "source": [
    "df.drop(columns=[\"status\"], inplace=True)"
   ],
   "metadata": {
    "collapsed": false,
    "pycharm": {
     "name": "#%%\n"
    }
   }
  },
  {
   "cell_type": "markdown",
   "source": [
    "### price: Ray"
   ],
   "metadata": {
    "collapsed": false,
    "pycharm": {
     "name": "#%% md\n"
    }
   }
  },
  {
   "cell_type": "markdown",
   "source": [
    "#The bed column gives a count of the number of bedrooms in a given property, the value is an integer but is stored as a float in pandas, I have a suspicion that this means there are some missing values"
   ],
   "metadata": {
    "collapsed": false,
    "pycharm": {
     "name": "#%% md\n"
    }
   }
  },
  {
   "cell_type": "code",
   "execution_count": 7,
   "outputs": [
    {
     "name": "stdout",
     "output_type": "stream",
     "text": [
      "<class 'pandas.core.frame.DataFrame'>\n",
      "RangeIndex: 923159 entries, 0 to 923158\n",
      "Data columns (total 12 columns):\n",
      " #   Column          Non-Null Count   Dtype  \n",
      "---  ------          --------------   -----  \n",
      " 0   price           923088 non-null  float64\n",
      " 1   bed             791456 non-null  float64\n",
      " 2   bath            807967 non-null  float64\n",
      " 3   acre_lot        649536 non-null  float64\n",
      " 4   full_address    923159 non-null  object \n",
      " 5   street          921021 non-null  object \n",
      " 6   city            923085 non-null  object \n",
      " 7   state           923159 non-null  object \n",
      " 8   zip_code        922954 non-null  float64\n",
      " 9   house_size      625316 non-null  float64\n",
      " 10  sold_date       456396 non-null  object \n",
      " 11  ready_to_build  923159 non-null  uint8  \n",
      "dtypes: float64(6), object(5), uint8(1)\n",
      "memory usage: 78.4+ MB\n"
     ]
    }
   ],
   "source": [
    "df.info()"
   ],
   "metadata": {
    "collapsed": false,
    "pycharm": {
     "name": "#%%\n"
    }
   }
  },
  {
   "cell_type": "markdown",
   "source": [
    "#From this visual, it seems that the missing values of bed are also highly indicative of missing values in bath(# bathrooms), house size and sold date. That honestly doesn't give me much confidence that imputation would actually work super well with this dataset but lets try it anyway and see if the distibution is relatively similar."
   ],
   "metadata": {
    "collapsed": false,
    "pycharm": {
     "name": "#%% md\n"
    }
   }
  },
  {
   "cell_type": "code",
   "execution_count": 8,
   "outputs": [
    {
     "data": {
      "text/plain": "<Figure size 1800x720 with 2 Axes>",
      "image/png": "[encoded data removed]"
     },
     "metadata": {
      "needs_background": "light"
     },
     "output_type": "display_data"
    },
    {
     "data": {
      "text/plain": "<Figure size 432x288 with 0 Axes>"
     },
     "metadata": {},
     "output_type": "display_data"
    },
    {
     "data": {
      "text/plain": "<Figure size 1800x720 with 2 Axes>",
      "image/png": "[encoded data removed]"
     },
     "metadata": {
      "needs_background": "light"
     },
     "output_type": "display_data"
    }
   ],
   "source": [
    "#As suspected, we have a lot of missing values, over 12000, but this is only about 13% of our dataset so let's try imputation and see if we can get some decent results.\n",
    "# this python magics will allow plot to be embedded into the notebook\n",
    "import matplotlib\n",
    "import matplotlib.pyplot as plt\n",
    "import warnings\n",
    "warnings.simplefilter('ignore', DeprecationWarning)\n",
    "%matplotlib inline\n",
    "\n",
    "# External package: conda install missingno\n",
    "import missingno as mn\n",
    "\n",
    "mn.matrix(df)\n",
    "plt.title(\"Not Sorted\",fontsize=22)\n",
    "\n",
    "plt.figure()\n",
    "mn.matrix(df.sort_values(by=[\"bed\"]))\n",
    "plt.title(\"Sorted\",fontsize=22)\n",
    "plt.show()"
   ],
   "metadata": {
    "collapsed": false,
    "pycharm": {
     "name": "#%%\n"
    }
   }
  },
  {
   "cell_type": "markdown",
   "source": [
    "#From this visual, it seems that the missing values of bed are also highly indicative of missing values in bath(# bathrooms), house size and sold date. That honestly doesn't give me much confidence that imputation would actually work super well with this dataset but lets try it anyway and see if the distibution is relatively similar."
   ],
   "metadata": {
    "collapsed": false
   }
  },
  {
   "cell_type": "markdown",
   "source": [
    "### bath: Saaketh\n"
   ],
   "metadata": {
    "collapsed": false,
    "pycharm": {
     "name": "#%% md\n"
    }
   }
  },
  {
   "cell_type": "markdown",
   "source": [
    "### acre_lot: Ray"
   ],
   "metadata": {
    "collapsed": false,
    "pycharm": {
     "name": "#%% md\n"
    }
   }
  },
  {
   "cell_type": "markdown",
   "source": [
    "### full_address: Vedant"
   ],
   "metadata": {
    "collapsed": false,
    "pycharm": {
     "name": "#%% md\n"
    }
   }
  },
  {
   "cell_type": "markdown",
   "source": [
    "### street: Saaketh\n"
   ],
   "metadata": {
    "collapsed": false,
    "pycharm": {
     "name": "#%% md\n"
    }
   }
  },
  {
   "cell_type": "code",
   "execution_count": 143,
   "outputs": [
    {
     "data": {
      "text/plain": "2138"
     },
     "execution_count": 143,
     "metadata": {},
     "output_type": "execute_result"
    }
   ],
   "source": [
    "df.street.isna().sum()"
   ],
   "metadata": {
    "collapsed": false,
    "pycharm": {
     "name": "#%%\n"
    }
   }
  },
  {
   "cell_type": "markdown",
   "source": [
    "### city: Ray"
   ],
   "metadata": {
    "collapsed": false,
    "pycharm": {
     "name": "#%% md\n"
    }
   }
  },
  {
   "cell_type": "markdown",
   "source": [
    "### state: Vedant"
   ],
   "metadata": {
    "collapsed": false,
    "pycharm": {
     "name": "#%% md\n"
    }
   }
  },
  {
   "cell_type": "markdown",
   "source": [
    "### zip_code: Saaketh\n",
    "\n",
    "In the US, a Zip Code is 5 digits. Any entries in the zip code feature that have less than 5 digits have leading 0s in their official zipcode."
   ],
   "metadata": {
    "collapsed": false,
    "pycharm": {
     "name": "#%% md\n"
    }
   }
  },
  {
   "cell_type": "code",
   "execution_count": 144,
   "outputs": [
    {
     "data": {
      "text/plain": "(601.0, 99999.0)"
     },
     "execution_count": 144,
     "metadata": {},
     "output_type": "execute_result"
    }
   ],
   "source": [
    "df.zip_code.min(), df.zip_code.max()"
   ],
   "metadata": {
    "collapsed": false,
    "pycharm": {
     "name": "#%%\n"
    }
   }
  },
  {
   "cell_type": "code",
   "execution_count": 145,
   "outputs": [
    {
     "data": {
      "text/plain": "(205, 0.02220635881792844)"
     },
     "execution_count": 145,
     "metadata": {},
     "output_type": "execute_result"
    }
   ],
   "source": [
    "df.zip_code.isna().sum(), (df.zip_code.isna().sum()*100)/len(df)"
   ],
   "metadata": {
    "collapsed": false,
    "pycharm": {
     "name": "#%%\n"
    }
   }
  },
  {
   "cell_type": "markdown",
   "source": [
    "There are only 205 NaN values for the zip_code feature. These account for ~0.02% of the dataset. For this reason, we will eliminate the NaN values. If we had more NaN values, we could impute by taking the mode zipcode grouped by city. This is using the logic that a single zipcode covers most of the city."
   ],
   "metadata": {
    "collapsed": false,
    "pycharm": {
     "name": "#%% md\n"
    }
   }
  },
  {
   "cell_type": "code",
   "execution_count": 146,
   "outputs": [],
   "source": [
    "df.dropna(subset=[\"zip_code\"], inplace=True)"
   ],
   "metadata": {
    "collapsed": false,
    "pycharm": {
     "name": "#%%\n"
    }
   }
  },
  {
   "cell_type": "markdown",
   "source": [
    "TODO if bored: Encode this"
   ],
   "metadata": {
    "collapsed": false,
    "pycharm": {
     "name": "#%% md\n"
    }
   }
  },
  {
   "cell_type": "markdown",
   "source": [
    "### house_size: Ray"
   ],
   "metadata": {
    "collapsed": false,
    "pycharm": {
     "name": "#%% md\n"
    }
   }
  },
  {
   "cell_type": "markdown",
   "source": [
    "### sold_date: Vedant"
   ],
   "metadata": {
    "collapsed": false,
    "pycharm": {
     "name": "#%% md\n"
    }
   }
  },
  {
   "cell_type": "markdown",
   "source": [
    "## Data Visualization:\n",
    "\n",
    "\n",
    "TODO: Ask three interesting questions that are relevant to your dataset and explore visuals that help answer these questions. Use whichever visualization method is appropriate for your data\n",
    "Visualize basic feature distributions. That is, plot the dynamic range and exploratory distribution plots (like boxplots, histograms, kernel density estimation) to better understand the data. Describe anything meaningful or potentially useful you discover from these visualizations. These may also help to understand what data is missing or needs imputation. Note: You can also use data from other sources to bolster visualizations. Visualize at least five plots, at least one categorical.\n",
    "\n",
    "\n",
    "We will each do 2 plots\n",
    "\n",
    "Question ideas:\n",
    "\n",
    "\n",
    "How do house prices vary by location?\n",
    "How do house prices vary by size / features of the house?\n",
    "How have house prices changed over time?\n",
    "How have house features changed over time? (ie have bedrooms / bathrooms increased in number, sqft increased or decreased, ect.)"
   ],
   "metadata": {
    "collapsed": false,
    "pycharm": {
     "name": "#%% md\n"
    }
   }
  },
  {
   "cell_type": "markdown",
   "source": [
    "### How do house prices vary by location? Saaketh"
   ],
   "metadata": {
    "collapsed": false,
    "pycharm": {
     "name": "#%% md\n"
    }
   }
  },
  {
   "cell_type": "code",
   "execution_count": 146,
   "outputs": [],
   "source": [],
   "metadata": {
    "collapsed": false,
    "pycharm": {
     "name": "#%%\n"
    }
   }
  },
  {
   "cell_type": "markdown",
   "source": [
    "### Question 2: Ray"
   ],
   "metadata": {
    "collapsed": false,
    "pycharm": {
     "name": "#%% md\n"
    }
   }
  },
  {
   "cell_type": "markdown",
   "source": [
    "### Question 3: Vedant"
   ],
   "metadata": {
    "collapsed": false,
    "pycharm": {
     "name": "#%% md\n"
    }
   }
  },
  {
   "cell_type": "code",
   "execution_count": null,
   "outputs": [],
   "source": [],
   "metadata": {
    "collapsed": false,
    "pycharm": {
     "name": "#%%\n"
    }
   }
  }
 ],
 "metadata": {
  "kernelspec": {
   "display_name": "Python 3",
   "language": "python",
   "name": "python3"
  },
  "language_info": {
   "codemirror_mode": {
    "name": "ipython",
    "version": 2
   },
   "file_extension": ".py",
   "mimetype": "text/x-python",
   "name": "python",
   "nbconvert_exporter": "python",
   "pygments_lexer": "ipython2",
   "version": "2.7.6"
  }
 },
 "nbformat": 4,
 "nbformat_minor": 0
}