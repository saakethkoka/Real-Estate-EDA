{
 "cells": [
  {
   "cell_type": "markdown",
   "source": [
    "# Realtor.com Dataset:\n",
    "\n",
    "### Saaketh, Rayaan, Vedant\n",
    "\n",
    "## Business Case:\n",
    "\n",
    "This dataset can be used to understand historical trends in US Housing data which can be leveraged to project future pricing. Further, the dataset could be used to compare a house which is for sale with what the market is pricing comparable sales too. This allows homeowners and investors to make more educated decisions with regards to real estate purchases.\n",
    "\n",
    "USA Real Estate Dataset  is a 12 feature 900,000+ entry dataset of the Real Estate transactions and the properties on the market for various markets across the United States. The dataset is collected from a weekly web scrape of the Realtor.com website which is one of the US’ most popular provider of real estate data and has historical data going back to 1980s.\n",
    "\n",
    "The business model of a real estate flipper is to purchase a property which is in a below market state, renovate that property, and then sell that property at a price which covers the initial purchase price and renovations. For this business model to succeed, the flipper needs to have an accurate After Repair Value (ARV) which is the fair market value of the property when the repairs are completed. To get the ARV, the flipper needs to project both what the fair market value of the house if it were repaired and the way in which the market will change between now and the time in which renovation finishes. Due to the locality of the real estate market, trends in the national housing market cannot accurately indicate what will happen to the value of houses in different price ranges and markets. As a result, to get a good indication of ARV comparison with comparable sales must be conducted. Our dataset allows for a programmatic determination of ARV by using comparable sales and by finding market trends amongst those sales.\n",
    "\n",
    "\n",
    "## Threashold\n",
    "\n",
    "\n",
    "The threshold for this tool being valuable is whether or not it provides a better estimation than human evaluators.\n"
   ],
   "metadata": {
    "collapsed": false,
    "pycharm": {
     "name": "#%% md\n"
    }
   }
  },
  {
   "cell_type": "markdown",
   "source": [
    "### Importing Relevant Libraries:"
   ],
   "metadata": {
    "collapsed": false,
    "pycharm": {
     "name": "#%% md\n"
    }
   }
  },
  {
   "cell_type": "code",
   "execution_count": null,
   "outputs": [],
   "source": [
    "import numpy as np\n",
    "import pandas as pd\n",
    "import matplotlib.pyplot as plt\n",
    "import seaborn as sns\n",
    "from sklearn.preprocessing import OneHotEncoder"
   ],
   "metadata": {
    "collapsed": false,
    "pycharm": {
     "name": "#%%\n"
    }
   }
  },
  {
   "cell_type": "code",
   "execution_count": null,
   "outputs": [],
   "source": [
    "df = pd.read_csv(\"realtor-data.csv\")\n",
    "df.info()"
   ],
   "metadata": {
    "collapsed": false,
    "pycharm": {
     "name": "#%%\n"
    }
   }
  },
  {
   "cell_type": "markdown",
   "source": [
    "## Understanding the data:"
   ],
   "metadata": {
    "collapsed": false,
    "pycharm": {
     "name": "#%% md\n"
    }
   }
  },
  {
   "cell_type": "code",
   "execution_count": null,
   "outputs": [],
   "source": [
    "df.head(10)"
   ],
   "metadata": {
    "collapsed": false,
    "pycharm": {
     "name": "#%%\n"
    }
   }
  },
  {
   "cell_type": "markdown",
   "source": [
    "### status:\n",
    "\n",
    "The status feature tells whether the given listing was for_sale or ready_to_build. This feature should be one-hot encoded. Because there are only two values for status, we will only the ready_to_build column. After the transformation, the status column will be replaced with a read_to_build column. We would expect the featture to be encoded as an object in pandas, which is what it is."
   ],
   "metadata": {
    "collapsed": false,
    "pycharm": {
     "name": "#%% md\n"
    }
   }
  },
  {
   "cell_type": "code",
   "execution_count": null,
   "outputs": [],
   "source": [
    "df.status.value_counts()"
   ],
   "metadata": {
    "collapsed": false,
    "pycharm": {
     "name": "#%%\n"
    }
   }
  },
  {
   "cell_type": "code",
   "execution_count": null,
   "outputs": [],
   "source": [
    "\"Number of missing values: \" +   str(df.status.isna().sum())"
   ],
   "metadata": {
    "collapsed": false,
    "pycharm": {
     "name": "#%%\n"
    }
   }
  },
  {
   "cell_type": "markdown",
   "source": [
    "Only 1,631 out of the 923,159 listings were labeled as ready_to_build\n",
    "\n",
    "OneHotEncoding the ready_to_build column\n",
    "We will also drop the original column after one hot encoding."
   ],
   "metadata": {
    "collapsed": false,
    "pycharm": {
     "name": "#%% md\n"
    }
   }
  },
  {
   "cell_type": "code",
   "execution_count": null,
   "outputs": [],
   "source": [
    "df[\"ready_to_build\"] = pd.get_dummies(df.status).ready_to_build\n",
    "df.drop(columns=[\"status\"], inplace=True)"
   ],
   "metadata": {
    "collapsed": false,
    "pycharm": {
     "name": "#%%\n"
    }
   }
  },
  {
   "cell_type": "markdown",
   "source": [
    "### price:\n",
    "\n",
    "Price is feature which we are trying to predict. The price feature is the value at which is the house has sold for. Price is a float because it is a numeric value.\n",
    "\n",
    "First we should see if there are any missing price data..."
   ],
   "metadata": {
    "collapsed": false,
    "pycharm": {
     "name": "#%% md\n"
    }
   }
  },
  {
   "cell_type": "code",
   "execution_count": null,
   "outputs": [],
   "source": [
    "\"Number of missing values: \" +   str(df.price.isna().sum())"
   ],
   "metadata": {
    "collapsed": false,
    "pycharm": {
     "name": "#%%\n"
    }
   }
  },
  {
   "cell_type": "markdown",
   "source": [
    "Because all of the other metrics (square footage, number of baths, number of bedrooms) are used to predict price, if the price value is missing the data for that entry is not of any value and should be dropped as a result."
   ],
   "metadata": {
    "collapsed": false,
    "pycharm": {
     "name": "#%% md\n"
    }
   }
  },
  {
   "cell_type": "code",
   "execution_count": null,
   "outputs": [],
   "source": [
    "df.dropna(subset=['price'], inplace=True)"
   ],
   "metadata": {
    "collapsed": false,
    "pycharm": {
     "name": "#%%\n"
    }
   }
  },
  {
   "cell_type": "markdown",
   "source": [
    "Now that we have dropped all of the null values, let's look at the distribution of the price data."
   ],
   "metadata": {
    "collapsed": false,
    "pycharm": {
     "name": "#%% md\n"
    }
   }
  },
  {
   "cell_type": "code",
   "execution_count": null,
   "outputs": [],
   "source": [
    "sns.histplot(data=df, x=\"price\", kde=True, bins=50000,kde_kws={'clip' : (0, 1500000)})\n",
    "plt.xlim(0, 1500000)\n",
    "print(\"The mean is: \" + str(df['price'].mean()))\n",
    "print(\"The standard deviation is: \" + str(df['price'].std()))"
   ],
   "metadata": {
    "collapsed": false,
    "pycharm": {
     "name": "#%%\n"
    }
   }
  },
  {
   "cell_type": "markdown",
   "source": [
    "As the histogram shows, the distribution of price data is unimodal with a left skew."
   ],
   "metadata": {
    "collapsed": false,
    "pycharm": {
     "name": "#%% md\n"
    }
   }
  },
  {
   "cell_type": "markdown",
   "source": [
    "### bed:\n",
    "The bed column gives a count of the number of bedrooms in a given property, the value is an integer but is stored as a float in pandas, I have a suspicion that this means there are some missing values."
   ],
   "metadata": {
    "collapsed": false,
    "pycharm": {
     "name": "#%% md\n"
    }
   }
  },
  {
   "cell_type": "code",
   "execution_count": null,
   "outputs": [],
   "source": [
    "df.info()"
   ],
   "metadata": {
    "collapsed": false,
    "pycharm": {
     "name": "#%%\n"
    }
   }
  },
  {
   "cell_type": "code",
   "execution_count": null,
   "outputs": [],
   "source": [
    "#As suspected, we have a lot of missing values, over 12000, but this is only about 13% of our dataset so we can just drop the missing rows, as there is stilla a lot of useful information in this feature.\n",
    "# this python magics will allow plot to be embedded into the notebook\n",
    "import matplotlib\n",
    "import matplotlib.pyplot as plt\n",
    "import warnings\n",
    "warnings.simplefilter('ignore', DeprecationWarning)\n",
    "%matplotlib inline\n",
    "\n",
    "# External package: conda install missingno\n",
    "import missingno as mn\n",
    "\n",
    "mn.matrix(df)\n",
    "plt.title(\"Not Sorted\",fontsize=22)\n",
    "\n",
    "plt.figure()\n",
    "mn.matrix(df.sort_values(by=[\"bed\"]))\n",
    "plt.title(\"Sorted\",fontsize=22)"
   ],
   "metadata": {
    "collapsed": false,
    "pycharm": {
     "name": "#%%\n"
    }
   }
  },
  {
   "cell_type": "markdown",
   "source": [
    "From this visual, it seems that the missing values of bed are also highly indicative of missing values in bath(# bathrooms), house size and sold date. That honestly doesn't give much confidence that imputation would actually work super well with this dataset for either of those features (as they are hightly correlated to each other) so lets just drop the missing columns of bed."
   ],
   "metadata": {
    "collapsed": false,
    "pycharm": {
     "name": "#%% md\n"
    }
   }
  },
  {
   "cell_type": "code",
   "execution_count": null,
   "outputs": [],
   "source": [
    "plt.hist(data=df, x=\"bed\", bins=[0,1,2,3,4,5,6,7,8,9,10])"
   ],
   "metadata": {
    "collapsed": false,
    "pycharm": {
     "name": "#%%\n"
    }
   }
  },
  {
   "cell_type": "markdown",
   "source": [
    "As can be seen by the histogram of beds, the most common house has somewhere between 3-5 beds with anymore or less being less common. The high rate of two bedroom properties are likely condominiums in urban areas."
   ],
   "metadata": {
    "collapsed": false,
    "pycharm": {
     "name": "#%% md\n"
    }
   }
  },
  {
   "cell_type": "code",
   "execution_count": null,
   "outputs": [],
   "source": [
    "df.dropna(subset=['bed'], inplace=True)"
   ],
   "metadata": {
    "collapsed": false,
    "pycharm": {
     "name": "#%%\n"
    }
   }
  },
  {
   "cell_type": "markdown",
   "source": [
    "### bath:\n",
    "\n",
    "This variable describes the number of bathrooms in the property. The data should be in Integer form, but it pandas stores it as a float, indicating missing values."
   ],
   "metadata": {
    "collapsed": false,
    "pycharm": {
     "name": "#%% md\n"
    }
   }
  },
  {
   "cell_type": "code",
   "execution_count": null,
   "outputs": [],
   "source": [
    "txt = \"{percent:.2f}% of the data is missing\"\n",
    "print(txt.format(percent=(df.bath.isna().sum()*100) / len(df)))"
   ],
   "metadata": {
    "collapsed": false,
    "pycharm": {
     "name": "#%%\n"
    }
   }
  },
  {
   "cell_type": "code",
   "execution_count": null,
   "outputs": [],
   "source": [
    "plt.hist(data=df, x=\"bath\", bins=[0,1,2,3,4,5,6,7,8,9,10])"
   ],
   "metadata": {
    "collapsed": false,
    "pycharm": {
     "name": "#%%\n"
    }
   }
  },
  {
   "cell_type": "markdown",
   "source": [
    "Because 0.65% of the data is missing, lets just drop the missing rows."
   ],
   "metadata": {
    "collapsed": false,
    "pycharm": {
     "name": "#%% md\n"
    }
   }
  },
  {
   "cell_type": "markdown",
   "source": [
    "Interestingly enough, the data for bath is a lot more tightly distributed between 1 and 4, indicating that more people are sharing bathrooms, which makes intutive sense."
   ],
   "metadata": {
    "collapsed": false,
    "pycharm": {
     "name": "#%% md\n"
    }
   }
  },
  {
   "cell_type": "code",
   "execution_count": null,
   "outputs": [],
   "source": [
    "df.dropna(subset=['bath'], inplace=True)"
   ],
   "metadata": {
    "collapsed": false,
    "pycharm": {
     "name": "#%%\n"
    }
   }
  },
  {
   "cell_type": "markdown",
   "source": [
    "### acre_lot\n",
    "\n",
    "#### Overview\n",
    "The acre_lot feature indicates the lot size of the property being sold. This feature is different from the house size metric as that measures the size of the property itself rather than the land around it. While this difference is often negligible in urban areas, for rural properties, the Lot Size of the land often drives the value of the property more than the value of the dwelling. The variable type of acre lot is float because it represents a non-discrete numeric value.\n",
    "\n",
    "#### Missing Values\n",
    "The first questions is what percentage of the data does not have a acre_lot value."
   ],
   "metadata": {
    "collapsed": false,
    "pycharm": {
     "name": "#%% md\n"
    }
   }
  },
  {
   "cell_type": "code",
   "execution_count": null,
   "outputs": [],
   "source": [
    "str(int((df.acre_lot.isna().sum())/ len(df) * 100)) + \"% do not have acre_lot\""
   ],
   "metadata": {
    "collapsed": false,
    "pycharm": {
     "name": "#%%\n"
    }
   }
  },
  {
   "cell_type": "markdown",
   "source": [
    "If we dropped all attributes that do not have an acre_lot value then about 1/3 of the data would be lost. This is a signifigant loss of data which could reduce the ability for our model to predict the value of price. To mitigate this, we will try to see if imputing this data is a wise decision and if it is, we will impute it.\n",
    "\n",
    "If acre lot can mostly be predicted from another feature than imputing it is a good idea. One canidate for this is house size. House size measures the amount of square feet within the house. As a general rule, houses with larger interiors should have larger exteriors. To test to see if this is a valid presumption, we'll generate a scatter plot of the data comparing these two features to see if a linearity exists."
   ],
   "metadata": {
    "collapsed": false,
    "pycharm": {
     "name": "#%% md\n"
    }
   }
  },
  {
   "cell_type": "markdown",
   "source": [],
   "metadata": {
    "collapsed": false,
    "pycharm": {
     "name": "#%% md\n"
    }
   }
  },
  {
   "cell_type": "markdown",
   "source": [],
   "metadata": {
    "collapsed": false,
    "pycharm": {
     "name": "#%% md\n"
    }
   }
  },
  {
   "cell_type": "code",
   "execution_count": null,
   "outputs": [],
   "source": [
    "sns.regplot(data=df, x=\"house_size\", y=\"acre_lot\",fit_reg=True)\n",
    "plt.xlim(0, 20000)\n",
    "plt.ylim(0,2.50)"
   ],
   "metadata": {
    "collapsed": false,
    "pycharm": {
     "name": "#%%\n"
    }
   }
  },
  {
   "cell_type": "markdown",
   "source": [
    "As the scatter plot shows, all of the points are bunched on the left side of the plot. As a result, we cannot have faith in the regression model which would be produced. Due to the high importance of acre_lot to determine the value of a property, we will be dropping all of the entries that do not have a acre_lot value."
   ],
   "metadata": {
    "collapsed": false,
    "pycharm": {
     "name": "#%% md\n"
    }
   }
  },
  {
   "cell_type": "code",
   "execution_count": null,
   "outputs": [],
   "source": [
    "df.dropna(subset=['acre_lot'], inplace=True)"
   ],
   "metadata": {
    "collapsed": false,
    "pycharm": {
     "name": "#%%\n"
    }
   }
  },
  {
   "cell_type": "markdown",
   "source": [
    "### full_address: \n",
    "The data type for this is object\n",
    "Because we already have zip code and other useful geolocation data, the full address isn't all that relevant to us, as the full address itself doesn't inherently provide more information to us than zip code, unless we wanted to somehow map the addresses to precise places via a gps, which would likely be extremely expensive and beyond the scope of what we can realistically do, given our current limitations."
   ],
   "metadata": {
    "collapsed": false,
    "pycharm": {
     "name": "#%% md\n"
    }
   }
  },
  {
   "cell_type": "code",
   "execution_count": null,
   "outputs": [],
   "source": [
    "#dropping the address feature\n",
    "df.drop(labels=['full_address'], axis=1, inplace=True)"
   ],
   "metadata": {
    "collapsed": false,
    "pycharm": {
     "name": "#%%\n"
    }
   }
  },
  {
   "cell_type": "markdown",
   "source": [
    "### street: \n",
    "Street has around 2000 missing values and isn't all that useful for our analysis, so we will drop it."
   ],
   "metadata": {
    "collapsed": false,
    "pycharm": {
     "name": "#%% md\n"
    }
   }
  },
  {
   "cell_type": "code",
   "execution_count": null,
   "outputs": [],
   "source": [
    "df.street.isna().sum()"
   ],
   "metadata": {
    "collapsed": false,
    "pycharm": {
     "name": "#%%\n"
    }
   }
  },
  {
   "cell_type": "code",
   "execution_count": null,
   "outputs": [],
   "source": [
    "df.drop(labels=['street'], axis=1, inplace=True)"
   ],
   "metadata": {
    "collapsed": false,
    "pycharm": {
     "name": "#%%\n"
    }
   }
  },
  {
   "cell_type": "markdown",
   "source": [
    "### city: \n",
    "\n",
    "The city indicates the city in which the property is located. The value of city is an object in pandas (string). This is feature allows us to determine the location of the property and potentially be used to map out market trends on a local level. "
   ],
   "metadata": {
    "collapsed": false,
    "pycharm": {
     "name": "#%% md\n"
    }
   }
  },
  {
   "cell_type": "code",
   "execution_count": null,
   "outputs": [],
   "source": [
    "df.city.isna().sum()"
   ],
   "metadata": {
    "collapsed": false,
    "pycharm": {
     "name": "#%%\n"
    }
   }
  },
  {
   "cell_type": "markdown",
   "source": [
    "We will remove these values from the data frame. "
   ],
   "metadata": {
    "collapsed": false,
    "pycharm": {
     "name": "#%% md\n"
    }
   }
  },
  {
   "cell_type": "code",
   "execution_count": null,
   "outputs": [],
   "source": [
    "df.dropna(subset=['city'], inplace=True)"
   ],
   "metadata": {
    "collapsed": false,
    "pycharm": {
     "name": "#%%\n"
    }
   }
  },
  {
   "cell_type": "code",
   "execution_count": null,
   "outputs": [],
   "source": [
    "df.city.value_counts()"
   ],
   "metadata": {
    "collapsed": false,
    "pycharm": {
     "name": "#%%\n"
    }
   }
  },
  {
   "cell_type": "markdown",
   "source": [
    "As the data shows, most of the data comes from cities that lie on the East Coast "
   ],
   "metadata": {
    "collapsed": false,
    "pycharm": {
     "name": "#%% md\n"
    }
   }
  },
  {
   "cell_type": "markdown",
   "source": [
    "### state:"
   ],
   "metadata": {
    "collapsed": false,
    "pycharm": {
     "name": "#%% md\n"
    }
   }
  },
  {
   "cell_type": "markdown",
   "source": [
    "State is encoded as an object (string) in pandas, which is what it should be."
   ],
   "metadata": {
    "collapsed": false,
    "pycharm": {
     "name": "#%% md\n"
    }
   }
  },
  {
   "cell_type": "code",
   "execution_count": null,
   "outputs": [],
   "source": [
    "df.state.isna().sum()"
   ],
   "metadata": {
    "collapsed": false,
    "pycharm": {
     "name": "#%%\n"
    }
   }
  },
  {
   "cell_type": "markdown",
   "source": [
    "There are no missing values for state and it is useful for the purposes of mapping, dicretizing the data by state, etc."
   ],
   "metadata": {
    "collapsed": false,
    "pycharm": {
     "name": "#%% md\n"
    }
   }
  },
  {
   "cell_type": "code",
   "execution_count": null,
   "outputs": [],
   "source": [
    "df.state.value_counts()"
   ],
   "metadata": {
    "collapsed": false,
    "pycharm": {
     "name": "#%%\n"
    }
   }
  },
  {
   "cell_type": "code",
   "execution_count": null,
   "outputs": [],
   "source": [
    "\"There are only \" + str(len(df.state.unique())) + \" states represented in the dataset\""
   ],
   "metadata": {
    "collapsed": false,
    "pycharm": {
     "name": "#%%\n"
    }
   }
  },
  {
   "cell_type": "code",
   "execution_count": null,
   "outputs": [],
   "source": [
    "df = df[df.state.isin([\"Virgin Islands\"]) == False]"
   ],
   "metadata": {
    "collapsed": false,
    "pycharm": {
     "name": "#%%\n"
    }
   }
  },
  {
   "cell_type": "markdown",
   "source": [
    "### zip_code:\n",
    "\n",
    "In the US, a Zip Code is 5 digits. Any entries in the zip code feature that have less than 5 digits have leading 0s in their official zipcode.\n",
    "Zip code has been stored as a float by pandas, indicating missing values."
   ],
   "metadata": {
    "collapsed": false,
    "pycharm": {
     "name": "#%% md\n"
    }
   }
  },
  {
   "cell_type": "code",
   "execution_count": null,
   "outputs": [],
   "source": [
    "df.zip_code.min(), df.zip_code.max()"
   ],
   "metadata": {
    "collapsed": false,
    "pycharm": {
     "name": "#%%\n"
    }
   }
  },
  {
   "cell_type": "code",
   "execution_count": null,
   "outputs": [],
   "source": [
    "df.zip_code.isna().sum(), (df.zip_code.isna().sum()*100)/len(df)"
   ],
   "metadata": {
    "collapsed": false,
    "pycharm": {
     "name": "#%%\n"
    }
   }
  },
  {
   "cell_type": "markdown",
   "source": [
    "There are only 205 NaN values for the zip_code feature. These account for ~0.02% of the dataset. For this reason, we will eliminate the NaN values. If we had more NaN values, we could impute by taking the mode zipcode grouped by city. This is using the logic that a single zipcode covers most of the city."
   ],
   "metadata": {
    "collapsed": false,
    "pycharm": {
     "name": "#%% md\n"
    }
   }
  },
  {
   "cell_type": "code",
   "execution_count": null,
   "outputs": [],
   "source": [
    "df.dropna(subset=[\"zip_code\"], inplace=True)"
   ],
   "metadata": {
    "collapsed": false,
    "pycharm": {
     "name": "#%%\n"
    }
   }
  },
  {
   "cell_type": "code",
   "execution_count": null,
   "outputs": [],
   "source": [
    "sns.histplot(data=df, x=\"zip_code\", bins=300)"
   ],
   "metadata": {
    "collapsed": false,
    "pycharm": {
     "name": "#%%\n"
    }
   }
  },
  {
   "cell_type": "markdown",
   "source": [
    "As seen by this histogram, there is a clear disequitable distribution between the ranges of zipcodes that appear, indicating many parts of the country are not covered, and the dataset is [highly regional](https://upload.wikimedia.org/wikipedia/commons/2/24/ZIP_Code_zones.svg)  (specifically, the northeast)."
   ],
   "metadata": {
    "collapsed": false,
    "pycharm": {
     "name": "#%% md\n"
    }
   }
  },
  {
   "cell_type": "markdown",
   "source": [
    "### sold_date:"
   ],
   "metadata": {
    "collapsed": false,
    "pycharm": {
     "name": "#%% md\n"
    }
   }
  },
  {
   "cell_type": "markdown",
   "source": [
    "Sold date has about 362,000 missing values, isn't really something we can impute due to the fact that there are a very high number of sold dates in our dataset and there is no real notion that the nearest neighborhoods across some feature will have similar dates due to a missing one. However, this feature is very important for us in terms of understanding shifts over time, so we will just drop rows with missing values."
   ],
   "metadata": {
    "collapsed": false,
    "pycharm": {
     "name": "#%% md\n"
    }
   }
  },
  {
   "cell_type": "code",
   "execution_count": null,
   "outputs": [],
   "source": [
    "df[\"sold_date\"] = pd.to_datetime(df[\"sold_date\"])\n",
    "df.sold_date.isna().sum()\n",
    "df.dropna(subset=['sold_date'], inplace=True)"
   ],
   "metadata": {
    "collapsed": false,
    "pycharm": {
     "name": "#%%\n"
    }
   }
  },
  {
   "cell_type": "code",
   "execution_count": null,
   "outputs": [],
   "source": [
    "df[\"sold_date\"] = pd.to_datetime(df[\"sold_date\"])"
   ],
   "metadata": {
    "collapsed": false,
    "pycharm": {
     "name": "#%%\n"
    }
   }
  },
  {
   "cell_type": "markdown",
   "source": [
    "### house_size\n",
    "The house_size variable indicates the size of the property in square feet. We would expect this to be of type integer but due to the missing values in the dataset, it was imported as a float."
   ],
   "metadata": {
    "collapsed": false,
    "pycharm": {
     "name": "#%% md\n"
    }
   }
  },
  {
   "cell_type": "code",
   "execution_count": null,
   "outputs": [],
   "source": [
    "\"There are \" + str(df.house_size.isna().sum()) + \" missing values.\""
   ],
   "metadata": {
    "collapsed": false,
    "pycharm": {
     "name": "#%%\n"
    }
   }
  },
  {
   "cell_type": "markdown",
   "source": [
    "Because house size is an important variable we will remove the missing values."
   ],
   "metadata": {
    "collapsed": false,
    "pycharm": {
     "name": "#%% md\n"
    }
   }
  },
  {
   "cell_type": "code",
   "execution_count": null,
   "outputs": [],
   "source": [
    "df.dropna(subset=[\"house_size\"], inplace=True)"
   ],
   "metadata": {
    "collapsed": false,
    "pycharm": {
     "name": "#%%\n"
    }
   }
  },
  {
   "cell_type": "markdown",
   "source": [
    "## Data Visualization:\n"
   ],
   "metadata": {
    "collapsed": false,
    "pycharm": {
     "name": "#%% md\n"
    }
   }
  },
  {
   "cell_type": "markdown",
   "source": [
    "### How do house prices vary by location? Saaketh"
   ],
   "metadata": {
    "collapsed": false,
    "pycharm": {
     "name": "#%% md\n"
    }
   }
  },
  {
   "cell_type": "code",
   "execution_count": null,
   "outputs": [],
   "source": [
    "import plotly.express as px\n",
    "from urllib.request import urlopen\n",
    "import json\n",
    "import datetime as dt"
   ],
   "metadata": {
    "collapsed": false,
    "pycharm": {
     "name": "#%%\n"
    }
   }
  },
  {
   "cell_type": "markdown",
   "source": [
    "I am getting the values from 2011 onwards in order to keep the prices relatively recent."
   ],
   "metadata": {
    "collapsed": false,
    "pycharm": {
     "name": "#%% md\n"
    }
   }
  },
  {
   "cell_type": "code",
   "execution_count": null,
   "outputs": [],
   "source": [
    "df['sold_date'] = pd.to_datetime(df[\"sold_date\"])"
   ],
   "metadata": {
    "collapsed": false,
    "pycharm": {
     "name": "#%%\n"
    }
   }
  },
  {
   "cell_type": "code",
   "execution_count": null,
   "outputs": [],
   "source": [
    "states_df = df[df.sold_date > dt.datetime(2011,1,1)].groupby(\"state\").mean()"
   ],
   "metadata": {
    "collapsed": false,
    "pycharm": {
     "name": "#%%\n"
    }
   }
  },
  {
   "cell_type": "code",
   "execution_count": null,
   "outputs": [],
   "source": [
    "with urlopen('https://raw.githubusercontent.com/PublicaMundi/MappingAPI/master/data/geojson/us-states.json') as response:\n",
    "    states = json.load(response)"
   ],
   "metadata": {
    "collapsed": false,
    "pycharm": {
     "name": "#%%\n"
    }
   }
  },
  {
   "cell_type": "code",
   "execution_count": null,
   "outputs": [],
   "source": [
    "\n",
    "states_to_number = {\n",
    "    # State_name :  state id\n",
    "}\n",
    "\n",
    "for state in states[\"features\"]:\n",
    "    state_name = state[\"properties\"][\"name\"]\n",
    "    state_id = state[\"id\"]\n",
    "\n",
    "    states_to_number[state_name] = state_id"
   ],
   "metadata": {
    "collapsed": false,
    "pycharm": {
     "name": "#%%\n"
    }
   }
  },
  {
   "cell_type": "code",
   "execution_count": null,
   "outputs": [],
   "source": [
    "states_to_number = {\n",
    "    # State_name :  state id\n",
    "}\n",
    "\n",
    "for state in states[\"features\"]:\n",
    "    state_name = state[\"properties\"][\"name\"]\n",
    "    state_id = state[\"id\"]\n",
    "\n",
    "    states_to_number[state_name] = state_id"
   ],
   "metadata": {
    "collapsed": false,
    "pycharm": {
     "name": "#%%\n"
    }
   }
  },
  {
   "cell_type": "code",
   "execution_count": null,
   "outputs": [],
   "source": [
    "def label_state_id(row):\n",
    "    try:\n",
    "        state_id = states_to_number[row.name]\n",
    "    except:\n",
    "        return 0\n",
    "    return state_id\n",
    "states_df[\"state_id\"] = states_df.apply(label_state_id, axis=1)"
   ],
   "metadata": {
    "collapsed": false,
    "pycharm": {
     "name": "#%%\n"
    }
   }
  },
  {
   "cell_type": "code",
   "execution_count": null,
   "outputs": [],
   "source": [
    "px.choropleth(states_df,\n",
    "              locations= states_df.state_id,\n",
    "              geojson=states,\n",
    "              color='price',\n",
    "              color_continuous_scale=\"Viridis\",\n",
    "              range_color=(300000, 1500000),\n",
    "              scope=\"usa\",\n",
    "              labels={'unemp':'unemployment rate'},\n",
    "              title=\"Average sold house price since 2011 by state\"\n",
    "              )"
   ],
   "metadata": {
    "collapsed": false,
    "pycharm": {
     "name": "#%%\n"
    }
   }
  },
  {
   "cell_type": "markdown",
   "source": [
    "Since 2011 the state of New York has had the highest average house prices of all the other states in our dataset. "
   ],
   "metadata": {
    "collapsed": false,
    "pycharm": {
     "name": "#%% md\n"
    }
   }
  },
  {
   "cell_type": "code",
   "execution_count": null,
   "outputs": [],
   "source": [
    "recent_sold_homes = df[df.sold_date > dt.datetime(2011,1,1)]"
   ],
   "metadata": {
    "collapsed": false,
    "pycharm": {
     "name": "#%%\n"
    }
   }
  },
  {
   "cell_type": "code",
   "execution_count": null,
   "outputs": [],
   "source": [
    "fig = px.violin(recent_sold_homes, x=\"price\", animation_frame=\"state\", title=\"Distribution of sold home prices by state\")\n",
    "fig.show(renderer=\"notebook\")"
   ],
   "metadata": {
    "collapsed": false,
    "pycharm": {
     "name": "#%%\n"
    }
   }
  },
  {
   "cell_type": "markdown",
   "source": [
    "Most states have a uni-modal distribution in their house prices. Georgia has a bi-modal distribution but only has 36 data points after 2011. New Hampshire's price distribution is more tightly concentrated compared to that of New York's price distribution. New York has more spread in the prices than other states in the dataset."
   ],
   "metadata": {
    "collapsed": false,
    "pycharm": {
     "name": "#%% md\n"
    }
   }
  },
  {
   "cell_type": "markdown",
   "source": [
    "### How do house prices vary by size / features of the house?"
   ],
   "metadata": {
    "collapsed": false,
    "pycharm": {
     "name": "#%% md\n"
    }
   }
  },
  {
   "cell_type": "code",
   "execution_count": null,
   "outputs": [],
   "source": [
    "plot_df = df\n",
    "plot_df['psf'] = plot_df['price'] / plot_df['house_size']\n",
    "# plot the correlation matrix\n",
    "vars_to_use = ['bed', 'bath', 'acre_lot', 'house_size', 'price', 'psf']  # pick vars\n",
    "plt.pcolor(df[vars_to_use].corr())  # do the feature correlation plot\n",
    "\n",
    "# fill in the indices\n",
    "plt.yticks(np.arange(0.5, len(vars_to_use), 1), vars_to_use)\n",
    "plt.xticks(np.arange(0.5, len(vars_to_use), 1), vars_to_use)\n",
    "plt.colorbar()\n",
    "plt.show()"
   ],
   "metadata": {
    "collapsed": false,
    "pycharm": {
     "name": "#%%\n"
    }
   }
  },
  {
   "cell_type": "markdown",
   "source": [
    "The most notable part of this correlation matrix is that all elements are positively correlated with each other. This means that in general, that more expensive houses are larger, on bigger lots, are fancier, have more bedrooms, and more baths, assuming linear relationships. More of one of these items mean more of the others.\n",
    "\n",
    "Amongst the correlations with price, Price per square foot, baths, bedrooms, house size, and lot size are in that order most to least correlated with price. This ordering. Another point of interest is that none of the variables have a statistically significant correlation with acre lot, indicating that it is independent of the other variables.\n",
    "There is a very significant correlation between bed and bath, which seems to make inutitive sense, as having a significantly dispe\\arate number of either of these relative to other would probably negatively impact the property's viability.\n",
    "Additionally, we added the price per square foot variable (an industry marker for the relative \"quality\" of a property). It seems to be the most significant indicator of price. implying that higher quality homes are more expensive (which seems obvious), but this doesn't hold for house size, indicating that bigger is not actually better."
   ],
   "metadata": {
    "collapsed": false,
    "pycharm": {
     "name": "#%% md\n"
    }
   }
  },
  {
   "cell_type": "markdown",
   "source": [
    "### How has price changed over time?"
   ],
   "metadata": {
    "collapsed": false,
    "pycharm": {
     "name": "#%% md\n"
    }
   }
  },
  {
   "cell_type": "code",
   "execution_count": 48,
   "metadata": {
    "pycharm": {
     "name": "#%%\n"
    }
   },
   "outputs": [
    {
     "data": {
      "image/png": "[encoded data removed]",
      "text/plain": [
       "<Figure size 432x288 with 2 Axes>"
      ]
     },
     "metadata": {
      "needs_background": "light"
     },
     "output_type": "display_data"
    }
   ],
   "source": [
    "plot_df = df\n",
    "plot_df['psf'] = plot_df['price'] / plot_df['house_size']\n",
    "# plot the correlation matrix\n",
    "vars_to_use = ['bed', 'bath', 'acre_lot', 'house_size', 'price', 'psf']  # pick vars\n",
    "plt.pcolor(df[vars_to_use].corr())  # do the feature correlation plot\n",
    "\n",
    "# fill in the indices\n",
    "plt.yticks(np.arange(0.5, len(vars_to_use), 1), vars_to_use)\n",
    "plt.xticks(np.arange(0.5, len(vars_to_use), 1), vars_to_use)\n",
    "plt.colorbar()\n",
    "plt.show()"
   ]
  },
  {
   "cell_type": "markdown",
   "metadata": {
    "pycharm": {
     "name": "#%% md\n"
    }
   },
   "source": [
    "The most notable part of this correlation matrix is that all elements are positively correlated with each other. This means that in general, that more expensive houses are larger, on bigger lots, are fancier, have more bedrooms, and more baths, assuming linear relationships. More of one of these items mean more of the others.\n",
    "\n",
    "Amongst the correlations with price, Price per square foot, baths, bedrooms, house size, and lot size are in that order most to least correlated with price. This ordering. Another point of interest is that none of the variables have a statistically significant correlation with acre lot, indicating that it is independent of the other variables.\n",
    "There is a very significant correlation between bed and bath, which seems to make inutitive sense, as having a significantly dispe\\arate number of either of these relative to other would probably negatively impact the property's viability.\n",
    "Additionally, we added the price per square foot variable (an industry marker for the relative \"quality\" of a property). It seems to be the most significant indicator of price. implying that higher quality homes are more expensive (which seems obvious), but this doesn't hold for house size, indicating that bigger is not actually better."
   ]
  },
  {
   "cell_type": "markdown",
   "metadata": {
    "pycharm": {
     "name": "#%% md\n"
    }
   },
   "source": [
    "### How has price changed over time?"
   ]
  },
  {
   "cell_type": "markdown",
   "metadata": {
    "pycharm": {
     "name": "#%% md\n"
    }
   },
   "source": [
    "We already created violin plots by state for 2011 onwards, but let's do this same for the preceding decades from 1981 to 2001"
   ]
  },
  {
   "cell_type": "markdown",
   "metadata": {
    "pycharm": {
     "name": "#%% md\n"
    }
   },
   "source": []
  },
  {
   "cell_type": "code",
   "execution_count": 49,
   "metadata": {
    "pycharm": {
     "name": "#%%\n"
    }
   },
   "outputs": [],
   "source": [
    "df_2000s = df[(df.sold_date < dt.datetime(2011,1,1)) & (df.sold_date > dt.datetime(2000,1,1))]\n",
    "df_90s = df[(df.sold_date < dt.datetime(2000,1,1)) & (df.sold_date > dt.datetime(1990,1,1))]\n",
    "df_80s = df[(df.sold_date < dt.datetime(1990,1,1)) & (df.sold_date > dt.datetime(1980,1,1))]"
   ]
  },
  {
   "cell_type": "code",
   "execution_count": 50,
   "metadata": {
    "pycharm": {
     "name": "#%%\n"
    }
   },
   "outputs": [
    {
     "name": "stdout",
     "output_type": "stream",
     "text": [
      "98715\n",
      "83402\n",
      "36054\n"
     ]
    },
    {
     "data": {
      "text/plain": [
       "12076"
      ]
     },
     "execution_count": 50,
     "metadata": {},
     "output_type": "execute_result"
    }
   ],
   "source": [
    "print(len(recent_sold_homes))\n",
    "print(len(df_2000s))\n",
    "print(len(df_90s))\n",
    "len(df_80s)"
   ]
  },
  {
   "cell_type": "code",
   "execution_count": 51,
   "metadata": {
    "pycharm": {
     "name": "#%%\n"
    }
   },
   "outputs": [
    {
     "data": {
      "text/plain": [
       "[<matplotlib.lines.Line2D at 0x7f9467b5c160>]"
      ]
     },
     "execution_count": 51,
     "metadata": {},
     "output_type": "execute_result"
    },
    {
     "data": {
      "image/png": "[encoded data removed]",
      "text/plain": [
       "<Figure size 432x288 with 1 Axes>"
      ]
     },
     "metadata": {
      "needs_background": "light"
     },
     "output_type": "display_data"
    }
   ],
   "source": [
    "group_df = df.groupby(df.sold_date.dt.year).mean()\n",
    "plt.plot(group_df.price)"
   ]
  },
  {
   "cell_type": "code",
   "execution_count": 52,
   "metadata": {
    "pycharm": {
     "name": "#%%\n"
    }
   },
   "outputs": [
    {
     "data": {
      "text/plain": [
       "Philadelphia     3211\n",
       "Staten Island    2141\n",
       "Boston           1813\n",
       "New York City    1807\n",
       "Bronx            1611\n",
       "                 ... \n",
       "Narrowsburg         1\n",
       "Otisfield           1\n",
       "Pipersville         1\n",
       "Erwinna             1\n",
       "Lyman               1\n",
       "Name: city, Length: 1495, dtype: int64"
      ]
     },
     "execution_count": 52,
     "metadata": {},
     "output_type": "execute_result"
    }
   ],
   "source": [
    "recent_sold_homes.city.value_counts()"
   ]
  },
  {
   "cell_type": "code",
   "execution_count": 53,
   "metadata": {
    "pycharm": {
     "name": "#%%\n"
    }
   },
   "outputs": [
    {
     "data": {
      "text/plain": [
       "Boston            3753\n",
       "Staten Island     1773\n",
       "Philadelphia      1456\n",
       "Brooklyn          1248\n",
       "Worcester         1180\n",
       "                  ... \n",
       "Belle Terre          1\n",
       "Lake Grove           1\n",
       "Malverne             1\n",
       "East Bangor          1\n",
       "Blooming Grove       1\n",
       "Name: city, Length: 1374, dtype: int64"
      ]
     },
     "execution_count": 53,
     "metadata": {},
     "output_type": "execute_result"
    }
   ],
   "source": [
    "df_2000s.city.value_counts()"
   ]
  },
  {
   "cell_type": "code",
   "execution_count": 54,
   "metadata": {
    "pycharm": {
     "name": "#%%\n"
    }
   },
   "outputs": [
    {
     "data": {
      "text/plain": [
       "Boston           1092\n",
       "Brooklyn          974\n",
       "Staten Island     855\n",
       "Philadelphia      775\n",
       "Bronx             547\n",
       "                 ... \n",
       "Carversville        1\n",
       "Paoli               1\n",
       "Harvey Cedars       1\n",
       "Townsend            1\n",
       "North Baldwin       1\n",
       "Name: city, Length: 1074, dtype: int64"
      ]
     },
     "execution_count": 54,
     "metadata": {},
     "output_type": "execute_result"
    }
   ],
   "source": [
    "import umap\n",
    "from sklearn.preprocessing import StandardScaler\n",
    "reducer = umap.UMAP()\n",
    "data = df[['bath', 'bed', 'acre_lot', 'house_size']]\n",
    "scaler = StandardScaler()\n",
    "scaled_data = scaler.fit_transform(data)\n",
    "embedding = reducer.fit_transform(scaled_data)\n",
    "plt.scatter(embedding[:,0], embedding[:,1,], c=df.price_cat, cmap='Spectral', s=5)"
   ]
  },
  {
   "cell_type": "markdown",
   "source": [
    "UMAP(uniform manifold approximation projection), is a dimensionality reduction algorithm that, at a high level, constructs a graph weights on probability of connections existing between points in n dimensions and then optimizes a lower dimensional graph in m dimensions to be a similar as possible to its high dimensional counterpart. This is done based on the construction of a simplicial complex (basically trying to take a continuous geometry problem and breaking it down into combinatorial structures like points and lines) and mathematically there are guarantees of this preserving the topological structure (nerve theorem), assuming a uniform distribution on the manifold. Of course, this doesn't always hold true for real data, so UMAP uses the distance between the kth nearest neighbor as the radii for determining proximity in the graph. UMAP also constructs a fuzzy graph in the high dimensional stage by only assuming connectedness from a point and its closest neighbor and then implementing fuzzy decay in all the successive neighbors. This mathematical approach allows UMAP to do a much better job than T-SNE (for example), at preserving both local and global structure, rather than just local structure. The low dimensional projection is quite complex but essentially works by using the notion of lower dimensional euclidean space as distance and then using the min_disy hyperparameter to determine how closely to bunch different points together in lower dimensional space, as earlier we simply computed the distance to the nearest neighbor in high dimensional space, but that won't necessarily work on the lower dimensional manifold.\n",
    "\n"
   ],
   "metadata": {
    "collapsed": false,
    "pycharm": {
     "name": "#%% md\n"
    }
   }
  },
  {
   "cell_type": "code",
   "execution_count": 55,
   "metadata": {
    "pycharm": {
     "name": "#%%\n"
    }
   },
   "outputs": [
    {
     "data": {
      "text/plain": [
       "Brooklyn         602\n",
       "Philadelphia     441\n",
       "New York City    254\n",
       "Springfield      229\n",
       "Staten Island    205\n",
       "                ... \n",
       "Toughkenamon       1\n",
       "Garnet Valley      1\n",
       "Dresher            1\n",
       "Belle Harbor       1\n",
       "Harvey Cedars      1\n",
       "Name: city, Length: 648, dtype: int64"
      ]
     },
     "execution_count": 55,
     "metadata": {},
     "output_type": "execute_result"
    }
   ],
   "source": [
    "df_80s.city.value_counts()"
   ]
  },
  {
   "cell_type": "markdown",
   "metadata": {
    "pycharm": {
     "name": "#%% md\n"
    }
   },
   "source": [
    "As can be seen by the above that the outputs, there is a large variation in the locations which are preseent in the data between the decades. Due to the potential relative differences in local pricing (ie Manhattan, NY is much more expensive than Manhattan, Kansas) the trendlines in price changes will not reflect the actual changes in pricing."
   ]
  },
  {
   "cell_type": "code",
   "execution_count": null,
   "metadata": {
    "pycharm": {
     "name": "#%%\n"
    }
   },
   "outputs": [],
   "source": []
  }
 ],
 "metadata": {
  "kernelspec": {
   "display_name": "Python 3",
   "language": "python",
   "name": "python3"
  },
  "language_info": {
   "codemirror_mode": {
    "name": "ipython",
    "version": 3
   },
   "file_extension": ".py",
   "mimetype": "text/x-python",
   "name": "python",
   "nbconvert_exporter": "python",
   "pygments_lexer": "ipython3",
   "version": "3.8.3"
  }
 },
 "nbformat": 4,
 "nbformat_minor": 1
}